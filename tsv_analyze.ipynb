{
 "cells": [
  {
   "cell_type": "markdown",
   "id": "68232c275a33120d",
   "metadata": {},
   "source": [
    "# Тестовое задание \"Задача по анализу поиска в Яндекс Картинках\"\n",
    "\n",
    "## Задачи\n",
    "1.\tУкажите даты диапазона предоставленного вам для анализа?\n",
    "2.\tРассчитайте кол-во запросов с текстом \"ютуб\" в каждой платформе (desktop, touch)\n",
    "3.\tВыведите топ10 самых частотных запросов в каждой платформе (desktop, touch). Какие отличия вы видите?\n",
    "4.\tПосмотрите, чем отличается трафик запросов в течение дня. Как можно объяснить отличие?\n",
    "5.\tВыделите тематики запросов, контрастные для мобильных и компьютеров - темы, доля которых отличаются на разных платформах"
   ]
  },
  {
   "cell_type": "code",
   "id": "da8df39251117e8a",
   "metadata": {
    "ExecuteTime": {
     "end_time": "2025-07-06T22:53:20.909310Z",
     "start_time": "2025-07-06T22:53:19.601666Z"
    }
   },
   "source": [
    "import pandas as pd\n",
    "\n",
    "df = pd.read_csv('./data/data.tsv', sep='\\t', names=[\"search_line\", \"time\", \"platform\"])\n",
    "df.info()"
   ],
   "outputs": [
    {
     "name": "stdout",
     "output_type": "stream",
     "text": [
      "<class 'pandas.core.frame.DataFrame'>\n",
      "RangeIndex: 1203824 entries, 0 to 1203823\n",
      "Data columns (total 3 columns):\n",
      " #   Column       Non-Null Count    Dtype \n",
      "---  ------       --------------    ----- \n",
      " 0   search_line  1203824 non-null  object\n",
      " 1   time         1203824 non-null  int64 \n",
      " 2   platform     1203824 non-null  object\n",
      "dtypes: int64(1), object(2)\n",
      "memory usage: 27.6+ MB\n"
     ]
    }
   ],
   "execution_count": 1
  },
  {
   "cell_type": "code",
   "id": "d985d0f39bb9c8f1",
   "metadata": {
    "ExecuteTime": {
     "end_time": "2025-07-06T22:53:20.943066Z",
     "start_time": "2025-07-06T22:53:20.930536Z"
    }
   },
   "source": [
    "df.head(10)"
   ],
   "outputs": [
    {
     "data": {
      "text/plain": [
       "            search_line        time platform\n",
       "0            порно фото  1631786697    touch\n",
       "1       малевич картины  1631806465  desktop\n",
       "2                  Секс  1631781583    touch\n",
       "3  с днём рождения лена  1631771563    touch\n",
       "4      зверополис порно  1631787599    touch\n",
       "5    алабай собака фото  1631786645    touch\n",
       "6           бактериофаг  1631816202  desktop\n",
       "7       полина гагарина  1631804005    touch\n",
       "8        кадр из фильма  1631770837  desktop\n",
       "9                 porno  1631780741    touch"
      ],
      "text/html": [
       "<div>\n",
       "<style scoped>\n",
       "    .dataframe tbody tr th:only-of-type {\n",
       "        vertical-align: middle;\n",
       "    }\n",
       "\n",
       "    .dataframe tbody tr th {\n",
       "        vertical-align: top;\n",
       "    }\n",
       "\n",
       "    .dataframe thead th {\n",
       "        text-align: right;\n",
       "    }\n",
       "</style>\n",
       "<table border=\"1\" class=\"dataframe\">\n",
       "  <thead>\n",
       "    <tr style=\"text-align: right;\">\n",
       "      <th></th>\n",
       "      <th>search_line</th>\n",
       "      <th>time</th>\n",
       "      <th>platform</th>\n",
       "    </tr>\n",
       "  </thead>\n",
       "  <tbody>\n",
       "    <tr>\n",
       "      <th>0</th>\n",
       "      <td>порно фото</td>\n",
       "      <td>1631786697</td>\n",
       "      <td>touch</td>\n",
       "    </tr>\n",
       "    <tr>\n",
       "      <th>1</th>\n",
       "      <td>малевич картины</td>\n",
       "      <td>1631806465</td>\n",
       "      <td>desktop</td>\n",
       "    </tr>\n",
       "    <tr>\n",
       "      <th>2</th>\n",
       "      <td>Секс</td>\n",
       "      <td>1631781583</td>\n",
       "      <td>touch</td>\n",
       "    </tr>\n",
       "    <tr>\n",
       "      <th>3</th>\n",
       "      <td>с днём рождения лена</td>\n",
       "      <td>1631771563</td>\n",
       "      <td>touch</td>\n",
       "    </tr>\n",
       "    <tr>\n",
       "      <th>4</th>\n",
       "      <td>зверополис порно</td>\n",
       "      <td>1631787599</td>\n",
       "      <td>touch</td>\n",
       "    </tr>\n",
       "    <tr>\n",
       "      <th>5</th>\n",
       "      <td>алабай собака фото</td>\n",
       "      <td>1631786645</td>\n",
       "      <td>touch</td>\n",
       "    </tr>\n",
       "    <tr>\n",
       "      <th>6</th>\n",
       "      <td>бактериофаг</td>\n",
       "      <td>1631816202</td>\n",
       "      <td>desktop</td>\n",
       "    </tr>\n",
       "    <tr>\n",
       "      <th>7</th>\n",
       "      <td>полина гагарина</td>\n",
       "      <td>1631804005</td>\n",
       "      <td>touch</td>\n",
       "    </tr>\n",
       "    <tr>\n",
       "      <th>8</th>\n",
       "      <td>кадр из фильма</td>\n",
       "      <td>1631770837</td>\n",
       "      <td>desktop</td>\n",
       "    </tr>\n",
       "    <tr>\n",
       "      <th>9</th>\n",
       "      <td>porno</td>\n",
       "      <td>1631780741</td>\n",
       "      <td>touch</td>\n",
       "    </tr>\n",
       "  </tbody>\n",
       "</table>\n",
       "</div>"
      ]
     },
     "execution_count": 2,
     "metadata": {},
     "output_type": "execute_result"
    }
   ],
   "execution_count": 2
  },
  {
   "cell_type": "markdown",
   "id": "3a586d9770802213",
   "metadata": {},
   "source": [
    "## Задача 1\n",
    "\n",
    "Укажите даты диапазона предоставленного вам для анализа?\n",
    "\n",
    "Поскольку не указано time zone информация, будем считать даты по **UTC**."
   ]
  },
  {
   "metadata": {
    "ExecuteTime": {
     "end_time": "2025-07-06T22:53:21.219221Z",
     "start_time": "2025-07-06T22:53:21.117492Z"
    }
   },
   "cell_type": "code",
   "source": [
    "df[\"date\"] = pd.to_datetime(df['time'], unit='s')\n",
    "df.head(10)"
   ],
   "id": "3b5a4157f15daae4",
   "outputs": [
    {
     "data": {
      "text/plain": [
       "            search_line        time platform                date\n",
       "0            порно фото  1631786697    touch 2021-09-16 10:04:57\n",
       "1       малевич картины  1631806465  desktop 2021-09-16 15:34:25\n",
       "2                  Секс  1631781583    touch 2021-09-16 08:39:43\n",
       "3  с днём рождения лена  1631771563    touch 2021-09-16 05:52:43\n",
       "4      зверополис порно  1631787599    touch 2021-09-16 10:19:59\n",
       "5    алабай собака фото  1631786645    touch 2021-09-16 10:04:05\n",
       "6           бактериофаг  1631816202  desktop 2021-09-16 18:16:42\n",
       "7       полина гагарина  1631804005    touch 2021-09-16 14:53:25\n",
       "8        кадр из фильма  1631770837  desktop 2021-09-16 05:40:37\n",
       "9                 porno  1631780741    touch 2021-09-16 08:25:41"
      ],
      "text/html": [
       "<div>\n",
       "<style scoped>\n",
       "    .dataframe tbody tr th:only-of-type {\n",
       "        vertical-align: middle;\n",
       "    }\n",
       "\n",
       "    .dataframe tbody tr th {\n",
       "        vertical-align: top;\n",
       "    }\n",
       "\n",
       "    .dataframe thead th {\n",
       "        text-align: right;\n",
       "    }\n",
       "</style>\n",
       "<table border=\"1\" class=\"dataframe\">\n",
       "  <thead>\n",
       "    <tr style=\"text-align: right;\">\n",
       "      <th></th>\n",
       "      <th>search_line</th>\n",
       "      <th>time</th>\n",
       "      <th>platform</th>\n",
       "      <th>date</th>\n",
       "    </tr>\n",
       "  </thead>\n",
       "  <tbody>\n",
       "    <tr>\n",
       "      <th>0</th>\n",
       "      <td>порно фото</td>\n",
       "      <td>1631786697</td>\n",
       "      <td>touch</td>\n",
       "      <td>2021-09-16 10:04:57</td>\n",
       "    </tr>\n",
       "    <tr>\n",
       "      <th>1</th>\n",
       "      <td>малевич картины</td>\n",
       "      <td>1631806465</td>\n",
       "      <td>desktop</td>\n",
       "      <td>2021-09-16 15:34:25</td>\n",
       "    </tr>\n",
       "    <tr>\n",
       "      <th>2</th>\n",
       "      <td>Секс</td>\n",
       "      <td>1631781583</td>\n",
       "      <td>touch</td>\n",
       "      <td>2021-09-16 08:39:43</td>\n",
       "    </tr>\n",
       "    <tr>\n",
       "      <th>3</th>\n",
       "      <td>с днём рождения лена</td>\n",
       "      <td>1631771563</td>\n",
       "      <td>touch</td>\n",
       "      <td>2021-09-16 05:52:43</td>\n",
       "    </tr>\n",
       "    <tr>\n",
       "      <th>4</th>\n",
       "      <td>зверополис порно</td>\n",
       "      <td>1631787599</td>\n",
       "      <td>touch</td>\n",
       "      <td>2021-09-16 10:19:59</td>\n",
       "    </tr>\n",
       "    <tr>\n",
       "      <th>5</th>\n",
       "      <td>алабай собака фото</td>\n",
       "      <td>1631786645</td>\n",
       "      <td>touch</td>\n",
       "      <td>2021-09-16 10:04:05</td>\n",
       "    </tr>\n",
       "    <tr>\n",
       "      <th>6</th>\n",
       "      <td>бактериофаг</td>\n",
       "      <td>1631816202</td>\n",
       "      <td>desktop</td>\n",
       "      <td>2021-09-16 18:16:42</td>\n",
       "    </tr>\n",
       "    <tr>\n",
       "      <th>7</th>\n",
       "      <td>полина гагарина</td>\n",
       "      <td>1631804005</td>\n",
       "      <td>touch</td>\n",
       "      <td>2021-09-16 14:53:25</td>\n",
       "    </tr>\n",
       "    <tr>\n",
       "      <th>8</th>\n",
       "      <td>кадр из фильма</td>\n",
       "      <td>1631770837</td>\n",
       "      <td>desktop</td>\n",
       "      <td>2021-09-16 05:40:37</td>\n",
       "    </tr>\n",
       "    <tr>\n",
       "      <th>9</th>\n",
       "      <td>porno</td>\n",
       "      <td>1631780741</td>\n",
       "      <td>touch</td>\n",
       "      <td>2021-09-16 08:25:41</td>\n",
       "    </tr>\n",
       "  </tbody>\n",
       "</table>\n",
       "</div>"
      ]
     },
     "execution_count": 3,
     "metadata": {},
     "output_type": "execute_result"
    }
   ],
   "execution_count": 3
  },
  {
   "metadata": {
    "ExecuteTime": {
     "end_time": "2025-07-06T22:53:21.267803Z",
     "start_time": "2025-07-06T22:53:21.259327Z"
    }
   },
   "cell_type": "code",
   "source": [
    "date_range = df.loc[[df['time'].idxmin(), df['time'].idxmax()]]['date']\n",
    "date_range.index = ['start', 'end']\n",
    "print(f'Диапазон дат: {date_range['start'].strftime('%d.%m.%Y')} - {date_range['end'].strftime('%d.%m.%Y')}')"
   ],
   "id": "2541722f43242d45",
   "outputs": [
    {
     "name": "stdout",
     "output_type": "stream",
     "text": [
      "Диапазон дат: 31.08.2021 - 21.09.2021\n"
     ]
    }
   ],
   "execution_count": 4
  },
  {
   "metadata": {},
   "cell_type": "markdown",
   "source": [
    "## Задача 2\n",
    "\n",
    "Рассчитайте кол-во запросов с текстом \"ютуб\" в каждой платформе (desktop, touch)"
   ],
   "id": "9b46364e8e2bb10f"
  },
  {
   "metadata": {
    "ExecuteTime": {
     "end_time": "2025-07-06T22:53:21.615690Z",
     "start_time": "2025-07-06T22:53:21.467132Z"
    }
   },
   "cell_type": "code",
   "source": [
    "youtube_count_df = df[df['search_line'] == 'ютуб'].groupby(by=['platform']).size().to_frame().reset_index()\n",
    "youtube_count_df.columns = ['platform', 'count']\n",
    "youtube_count_df"
   ],
   "id": "76317cef42ff24c5",
   "outputs": [
    {
     "data": {
      "text/plain": [
       "  platform  count\n",
       "0  desktop    714\n",
       "1    touch    476"
      ],
      "text/html": [
       "<div>\n",
       "<style scoped>\n",
       "    .dataframe tbody tr th:only-of-type {\n",
       "        vertical-align: middle;\n",
       "    }\n",
       "\n",
       "    .dataframe tbody tr th {\n",
       "        vertical-align: top;\n",
       "    }\n",
       "\n",
       "    .dataframe thead th {\n",
       "        text-align: right;\n",
       "    }\n",
       "</style>\n",
       "<table border=\"1\" class=\"dataframe\">\n",
       "  <thead>\n",
       "    <tr style=\"text-align: right;\">\n",
       "      <th></th>\n",
       "      <th>platform</th>\n",
       "      <th>count</th>\n",
       "    </tr>\n",
       "  </thead>\n",
       "  <tbody>\n",
       "    <tr>\n",
       "      <th>0</th>\n",
       "      <td>desktop</td>\n",
       "      <td>714</td>\n",
       "    </tr>\n",
       "    <tr>\n",
       "      <th>1</th>\n",
       "      <td>touch</td>\n",
       "      <td>476</td>\n",
       "    </tr>\n",
       "  </tbody>\n",
       "</table>\n",
       "</div>"
      ]
     },
     "execution_count": 5,
     "metadata": {},
     "output_type": "execute_result"
    }
   ],
   "execution_count": 5
  },
  {
   "metadata": {
    "ExecuteTime": {
     "end_time": "2025-07-06T22:53:23.453233Z",
     "start_time": "2025-07-06T22:53:21.746220Z"
    }
   },
   "cell_type": "code",
   "source": [
    "import plotly.express as px\n",
    "import plotly.io as pio\n",
    "pio.templates.default = \"plotly\"\n",
    "fig = px.bar(youtube_count_df, x='platform', y='count', title='Кол-во запросов с текстом \"ютуб\" в каждой платформе')\n",
    "fig.show(renderer=\"png\")"
   ],
   "id": "fcded6108f8debc9",
   "outputs": [
    {
     "data": {
      "image/png": "[encoded data removed]"
     },
     "metadata": {},
     "output_type": "display_data"
    }
   ],
   "execution_count": 6
  },
  {
   "metadata": {},
   "cell_type": "markdown",
   "source": [
    "## Задача 3\n",
    "\n",
    "Выведите топ10 самых частотных запросов в каждой платформе (desktop, touch). Какие отличия вы видите?"
   ],
   "id": "5d4dcd45c9d9fb3e"
  },
  {
   "metadata": {
    "ExecuteTime": {
     "end_time": "2025-07-06T22:53:24.037025Z",
     "start_time": "2025-07-06T22:53:23.504563Z"
    }
   },
   "cell_type": "code",
   "source": [
    "search_line_cnt_df = df.groupby(by=['search_line', 'platform']).size().to_frame().reset_index()\n",
    "search_line_cnt_df.columns = ['search_line', 'platform', 'count']\n",
    "search_line_cnt_df.head(10)"
   ],
   "id": "c0f4d949d0b1e2c4",
   "outputs": [
    {
     "data": {
      "text/plain": [
       "          search_line platform  count\n",
       "0                 +18  desktop     11\n",
       "1                 +18    touch     34\n",
       "2           +18 video  desktop      2\n",
       "3           +18 video    touch     24\n",
       "4                 002  desktop      4\n",
       "5                 002    touch     15\n",
       "6            02 аниме  desktop     34\n",
       "7            02 аниме    touch     30\n",
       "8  02 милый во франсе  desktop      7\n",
       "9  02 милый во франсе    touch     23"
      ],
      "text/html": [
       "<div>\n",
       "<style scoped>\n",
       "    .dataframe tbody tr th:only-of-type {\n",
       "        vertical-align: middle;\n",
       "    }\n",
       "\n",
       "    .dataframe tbody tr th {\n",
       "        vertical-align: top;\n",
       "    }\n",
       "\n",
       "    .dataframe thead th {\n",
       "        text-align: right;\n",
       "    }\n",
       "</style>\n",
       "<table border=\"1\" class=\"dataframe\">\n",
       "  <thead>\n",
       "    <tr style=\"text-align: right;\">\n",
       "      <th></th>\n",
       "      <th>search_line</th>\n",
       "      <th>platform</th>\n",
       "      <th>count</th>\n",
       "    </tr>\n",
       "  </thead>\n",
       "  <tbody>\n",
       "    <tr>\n",
       "      <th>0</th>\n",
       "      <td>+18</td>\n",
       "      <td>desktop</td>\n",
       "      <td>11</td>\n",
       "    </tr>\n",
       "    <tr>\n",
       "      <th>1</th>\n",
       "      <td>+18</td>\n",
       "      <td>touch</td>\n",
       "      <td>34</td>\n",
       "    </tr>\n",
       "    <tr>\n",
       "      <th>2</th>\n",
       "      <td>+18 video</td>\n",
       "      <td>desktop</td>\n",
       "      <td>2</td>\n",
       "    </tr>\n",
       "    <tr>\n",
       "      <th>3</th>\n",
       "      <td>+18 video</td>\n",
       "      <td>touch</td>\n",
       "      <td>24</td>\n",
       "    </tr>\n",
       "    <tr>\n",
       "      <th>4</th>\n",
       "      <td>002</td>\n",
       "      <td>desktop</td>\n",
       "      <td>4</td>\n",
       "    </tr>\n",
       "    <tr>\n",
       "      <th>5</th>\n",
       "      <td>002</td>\n",
       "      <td>touch</td>\n",
       "      <td>15</td>\n",
       "    </tr>\n",
       "    <tr>\n",
       "      <th>6</th>\n",
       "      <td>02 аниме</td>\n",
       "      <td>desktop</td>\n",
       "      <td>34</td>\n",
       "    </tr>\n",
       "    <tr>\n",
       "      <th>7</th>\n",
       "      <td>02 аниме</td>\n",
       "      <td>touch</td>\n",
       "      <td>30</td>\n",
       "    </tr>\n",
       "    <tr>\n",
       "      <th>8</th>\n",
       "      <td>02 милый во франсе</td>\n",
       "      <td>desktop</td>\n",
       "      <td>7</td>\n",
       "    </tr>\n",
       "    <tr>\n",
       "      <th>9</th>\n",
       "      <td>02 милый во франсе</td>\n",
       "      <td>touch</td>\n",
       "      <td>23</td>\n",
       "    </tr>\n",
       "  </tbody>\n",
       "</table>\n",
       "</div>"
      ]
     },
     "execution_count": 7,
     "metadata": {},
     "output_type": "execute_result"
    }
   ],
   "execution_count": 7
  },
  {
   "metadata": {
    "ExecuteTime": {
     "end_time": "2025-07-06T22:53:24.109954Z",
     "start_time": "2025-07-06T22:53:24.083524Z"
    }
   },
   "cell_type": "code",
   "source": [
    "\n",
    "search_line_cnt_df = search_line_cnt_df.groupby(by=['platform']).apply(lambda x: x.nlargest(10, 'count'), include_groups=False).reset_index()\n",
    "search_line_cnt_df.head(10)"
   ],
   "id": "ad5a51b92dea8530",
   "outputs": [
    {
     "data": {
      "text/plain": [
       "  platform  level_1                      search_line  count\n",
       "0  desktop    19078                   календарь 2021   2804\n",
       "1  desktop    42343               таблица менделеева   2631\n",
       "2  desktop    19872                         картинки   1647\n",
       "3  desktop    32726                            порно   1342\n",
       "4  desktop     7645               английский алфавит   1293\n",
       "5  desktop    28255             обои на рабочий стол   1143\n",
       "6  desktop     5132  Одноклассники (социальная сеть)   1116\n",
       "7  desktop    38502                             секс    895\n",
       "8  desktop    42325                таблица квадратов    877\n",
       "9  desktop     7292                          алфавит    874"
      ],
      "text/html": [
       "<div>\n",
       "<style scoped>\n",
       "    .dataframe tbody tr th:only-of-type {\n",
       "        vertical-align: middle;\n",
       "    }\n",
       "\n",
       "    .dataframe tbody tr th {\n",
       "        vertical-align: top;\n",
       "    }\n",
       "\n",
       "    .dataframe thead th {\n",
       "        text-align: right;\n",
       "    }\n",
       "</style>\n",
       "<table border=\"1\" class=\"dataframe\">\n",
       "  <thead>\n",
       "    <tr style=\"text-align: right;\">\n",
       "      <th></th>\n",
       "      <th>platform</th>\n",
       "      <th>level_1</th>\n",
       "      <th>search_line</th>\n",
       "      <th>count</th>\n",
       "    </tr>\n",
       "  </thead>\n",
       "  <tbody>\n",
       "    <tr>\n",
       "      <th>0</th>\n",
       "      <td>desktop</td>\n",
       "      <td>19078</td>\n",
       "      <td>календарь 2021</td>\n",
       "      <td>2804</td>\n",
       "    </tr>\n",
       "    <tr>\n",
       "      <th>1</th>\n",
       "      <td>desktop</td>\n",
       "      <td>42343</td>\n",
       "      <td>таблица менделеева</td>\n",
       "      <td>2631</td>\n",
       "    </tr>\n",
       "    <tr>\n",
       "      <th>2</th>\n",
       "      <td>desktop</td>\n",
       "      <td>19872</td>\n",
       "      <td>картинки</td>\n",
       "      <td>1647</td>\n",
       "    </tr>\n",
       "    <tr>\n",
       "      <th>3</th>\n",
       "      <td>desktop</td>\n",
       "      <td>32726</td>\n",
       "      <td>порно</td>\n",
       "      <td>1342</td>\n",
       "    </tr>\n",
       "    <tr>\n",
       "      <th>4</th>\n",
       "      <td>desktop</td>\n",
       "      <td>7645</td>\n",
       "      <td>английский алфавит</td>\n",
       "      <td>1293</td>\n",
       "    </tr>\n",
       "    <tr>\n",
       "      <th>5</th>\n",
       "      <td>desktop</td>\n",
       "      <td>28255</td>\n",
       "      <td>обои на рабочий стол</td>\n",
       "      <td>1143</td>\n",
       "    </tr>\n",
       "    <tr>\n",
       "      <th>6</th>\n",
       "      <td>desktop</td>\n",
       "      <td>5132</td>\n",
       "      <td>Одноклассники (социальная сеть)</td>\n",
       "      <td>1116</td>\n",
       "    </tr>\n",
       "    <tr>\n",
       "      <th>7</th>\n",
       "      <td>desktop</td>\n",
       "      <td>38502</td>\n",
       "      <td>секс</td>\n",
       "      <td>895</td>\n",
       "    </tr>\n",
       "    <tr>\n",
       "      <th>8</th>\n",
       "      <td>desktop</td>\n",
       "      <td>42325</td>\n",
       "      <td>таблица квадратов</td>\n",
       "      <td>877</td>\n",
       "    </tr>\n",
       "    <tr>\n",
       "      <th>9</th>\n",
       "      <td>desktop</td>\n",
       "      <td>7292</td>\n",
       "      <td>алфавит</td>\n",
       "      <td>874</td>\n",
       "    </tr>\n",
       "  </tbody>\n",
       "</table>\n",
       "</div>"
      ]
     },
     "execution_count": 8,
     "metadata": {},
     "output_type": "execute_result"
    }
   ],
   "execution_count": 8
  },
  {
   "metadata": {
    "ExecuteTime": {
     "end_time": "2025-07-06T22:53:24.465295Z",
     "start_time": "2025-07-06T22:53:24.274489Z"
    }
   },
   "cell_type": "code",
   "source": [
    "fig = px.bar(search_line_cnt_df, x='platform', y='count', title='Топ 10 самых частотных запросов в каждой платформе', text='search_line', color=\"count\", height=600)\n",
    "fig.show(renderer=\"png\")"
   ],
   "id": "9dbd89638c64f03a",
   "outputs": [
    {
     "data": {
      "image/png": "[encoded data removed]"
     },
     "metadata": {},
     "output_type": "display_data"
    }
   ],
   "execution_count": 9
  },
  {
   "metadata": {},
   "cell_type": "markdown",
   "source": [
    "Исходя из диаграммы можно увидеть следующее:\n",
    "- На мобильных устройства чаще всего ищут контент 18+, а также поздравления с днём рождения и календарь\n",
    "- На компьютерах чаще всего ищут календарь, таблицу менделеева и картинки\n",
    "\n",
    "Заметны существенные различия между платформами: на мобильных устройствах очень распространён поиск 18+ контента и поздравлений с днём рождения в отличие от ПК. На пк 18+ контент достаточно популярен, но не настолько."
   ],
   "id": "d118a29c4a7a289f"
  },
  {
   "metadata": {},
   "cell_type": "markdown",
   "source": [
    "## Задача 4\n",
    "\n",
    "Посмотрите, чем отличается трафик запросов в течении дня. Как можно объяснить отличие?"
   ],
   "id": "761a3cb6b9e4294d"
  },
  {
   "cell_type": "code",
   "id": "29bbee08f3e9da03",
   "metadata": {
    "ExecuteTime": {
     "end_time": "2025-07-06T22:53:25.024194Z",
     "start_time": "2025-07-06T22:53:24.543648Z"
    }
   },
   "source": [
    "df['msc_time'] = df['date'].dt.floor('30min').dt.time\n",
    "df.head(10)"
   ],
   "outputs": [
    {
     "data": {
      "text/plain": [
       "            search_line        time platform                date  msc_time\n",
       "0            порно фото  1631786697    touch 2021-09-16 10:04:57  10:00:00\n",
       "1       малевич картины  1631806465  desktop 2021-09-16 15:34:25  15:30:00\n",
       "2                  Секс  1631781583    touch 2021-09-16 08:39:43  08:30:00\n",
       "3  с днём рождения лена  1631771563    touch 2021-09-16 05:52:43  05:30:00\n",
       "4      зверополис порно  1631787599    touch 2021-09-16 10:19:59  10:00:00\n",
       "5    алабай собака фото  1631786645    touch 2021-09-16 10:04:05  10:00:00\n",
       "6           бактериофаг  1631816202  desktop 2021-09-16 18:16:42  18:00:00\n",
       "7       полина гагарина  1631804005    touch 2021-09-16 14:53:25  14:30:00\n",
       "8        кадр из фильма  1631770837  desktop 2021-09-16 05:40:37  05:30:00\n",
       "9                 porno  1631780741    touch 2021-09-16 08:25:41  08:00:00"
      ],
      "text/html": [
       "<div>\n",
       "<style scoped>\n",
       "    .dataframe tbody tr th:only-of-type {\n",
       "        vertical-align: middle;\n",
       "    }\n",
       "\n",
       "    .dataframe tbody tr th {\n",
       "        vertical-align: top;\n",
       "    }\n",
       "\n",
       "    .dataframe thead th {\n",
       "        text-align: right;\n",
       "    }\n",
       "</style>\n",
       "<table border=\"1\" class=\"dataframe\">\n",
       "  <thead>\n",
       "    <tr style=\"text-align: right;\">\n",
       "      <th></th>\n",
       "      <th>search_line</th>\n",
       "      <th>time</th>\n",
       "      <th>platform</th>\n",
       "      <th>date</th>\n",
       "      <th>msc_time</th>\n",
       "    </tr>\n",
       "  </thead>\n",
       "  <tbody>\n",
       "    <tr>\n",
       "      <th>0</th>\n",
       "      <td>порно фото</td>\n",
       "      <td>1631786697</td>\n",
       "      <td>touch</td>\n",
       "      <td>2021-09-16 10:04:57</td>\n",
       "      <td>10:00:00</td>\n",
       "    </tr>\n",
       "    <tr>\n",
       "      <th>1</th>\n",
       "      <td>малевич картины</td>\n",
       "      <td>1631806465</td>\n",
       "      <td>desktop</td>\n",
       "      <td>2021-09-16 15:34:25</td>\n",
       "      <td>15:30:00</td>\n",
       "    </tr>\n",
       "    <tr>\n",
       "      <th>2</th>\n",
       "      <td>Секс</td>\n",
       "      <td>1631781583</td>\n",
       "      <td>touch</td>\n",
       "      <td>2021-09-16 08:39:43</td>\n",
       "      <td>08:30:00</td>\n",
       "    </tr>\n",
       "    <tr>\n",
       "      <th>3</th>\n",
       "      <td>с днём рождения лена</td>\n",
       "      <td>1631771563</td>\n",
       "      <td>touch</td>\n",
       "      <td>2021-09-16 05:52:43</td>\n",
       "      <td>05:30:00</td>\n",
       "    </tr>\n",
       "    <tr>\n",
       "      <th>4</th>\n",
       "      <td>зверополис порно</td>\n",
       "      <td>1631787599</td>\n",
       "      <td>touch</td>\n",
       "      <td>2021-09-16 10:19:59</td>\n",
       "      <td>10:00:00</td>\n",
       "    </tr>\n",
       "    <tr>\n",
       "      <th>5</th>\n",
       "      <td>алабай собака фото</td>\n",
       "      <td>1631786645</td>\n",
       "      <td>touch</td>\n",
       "      <td>2021-09-16 10:04:05</td>\n",
       "      <td>10:00:00</td>\n",
       "    </tr>\n",
       "    <tr>\n",
       "      <th>6</th>\n",
       "      <td>бактериофаг</td>\n",
       "      <td>1631816202</td>\n",
       "      <td>desktop</td>\n",
       "      <td>2021-09-16 18:16:42</td>\n",
       "      <td>18:00:00</td>\n",
       "    </tr>\n",
       "    <tr>\n",
       "      <th>7</th>\n",
       "      <td>полина гагарина</td>\n",
       "      <td>1631804005</td>\n",
       "      <td>touch</td>\n",
       "      <td>2021-09-16 14:53:25</td>\n",
       "      <td>14:30:00</td>\n",
       "    </tr>\n",
       "    <tr>\n",
       "      <th>8</th>\n",
       "      <td>кадр из фильма</td>\n",
       "      <td>1631770837</td>\n",
       "      <td>desktop</td>\n",
       "      <td>2021-09-16 05:40:37</td>\n",
       "      <td>05:30:00</td>\n",
       "    </tr>\n",
       "    <tr>\n",
       "      <th>9</th>\n",
       "      <td>porno</td>\n",
       "      <td>1631780741</td>\n",
       "      <td>touch</td>\n",
       "      <td>2021-09-16 08:25:41</td>\n",
       "      <td>08:00:00</td>\n",
       "    </tr>\n",
       "  </tbody>\n",
       "</table>\n",
       "</div>"
      ]
     },
     "execution_count": 10,
     "metadata": {},
     "output_type": "execute_result"
    }
   ],
   "execution_count": 10
  },
  {
   "cell_type": "code",
   "id": "c42fde21504c42b5",
   "metadata": {
    "ExecuteTime": {
     "end_time": "2025-07-06T22:53:25.170636Z",
     "start_time": "2025-07-06T22:53:25.062624Z"
    }
   },
   "source": [
    "count_by_time = df.groupby(by=['msc_time']).size().to_frame().reset_index()\n",
    "count_by_time.columns = ['msc_time', 'count']\n",
    "count_by_time.head(10)"
   ],
   "outputs": [
    {
     "data": {
      "text/plain": [
       "   msc_time  count\n",
       "0  00:00:00   4873\n",
       "1  00:30:00   5145\n",
       "2  01:00:00   5848\n",
       "3  01:30:00   6792\n",
       "4  02:00:00   7990\n",
       "5  02:30:00   9532\n",
       "6  03:00:00  12476\n",
       "7  03:30:00  15440\n",
       "8  04:00:00  18889\n",
       "9  04:30:00  21890"
      ],
      "text/html": [
       "<div>\n",
       "<style scoped>\n",
       "    .dataframe tbody tr th:only-of-type {\n",
       "        vertical-align: middle;\n",
       "    }\n",
       "\n",
       "    .dataframe tbody tr th {\n",
       "        vertical-align: top;\n",
       "    }\n",
       "\n",
       "    .dataframe thead th {\n",
       "        text-align: right;\n",
       "    }\n",
       "</style>\n",
       "<table border=\"1\" class=\"dataframe\">\n",
       "  <thead>\n",
       "    <tr style=\"text-align: right;\">\n",
       "      <th></th>\n",
       "      <th>msc_time</th>\n",
       "      <th>count</th>\n",
       "    </tr>\n",
       "  </thead>\n",
       "  <tbody>\n",
       "    <tr>\n",
       "      <th>0</th>\n",
       "      <td>00:00:00</td>\n",
       "      <td>4873</td>\n",
       "    </tr>\n",
       "    <tr>\n",
       "      <th>1</th>\n",
       "      <td>00:30:00</td>\n",
       "      <td>5145</td>\n",
       "    </tr>\n",
       "    <tr>\n",
       "      <th>2</th>\n",
       "      <td>01:00:00</td>\n",
       "      <td>5848</td>\n",
       "    </tr>\n",
       "    <tr>\n",
       "      <th>3</th>\n",
       "      <td>01:30:00</td>\n",
       "      <td>6792</td>\n",
       "    </tr>\n",
       "    <tr>\n",
       "      <th>4</th>\n",
       "      <td>02:00:00</td>\n",
       "      <td>7990</td>\n",
       "    </tr>\n",
       "    <tr>\n",
       "      <th>5</th>\n",
       "      <td>02:30:00</td>\n",
       "      <td>9532</td>\n",
       "    </tr>\n",
       "    <tr>\n",
       "      <th>6</th>\n",
       "      <td>03:00:00</td>\n",
       "      <td>12476</td>\n",
       "    </tr>\n",
       "    <tr>\n",
       "      <th>7</th>\n",
       "      <td>03:30:00</td>\n",
       "      <td>15440</td>\n",
       "    </tr>\n",
       "    <tr>\n",
       "      <th>8</th>\n",
       "      <td>04:00:00</td>\n",
       "      <td>18889</td>\n",
       "    </tr>\n",
       "    <tr>\n",
       "      <th>9</th>\n",
       "      <td>04:30:00</td>\n",
       "      <td>21890</td>\n",
       "    </tr>\n",
       "  </tbody>\n",
       "</table>\n",
       "</div>"
      ]
     },
     "execution_count": 11,
     "metadata": {},
     "output_type": "execute_result"
    }
   ],
   "execution_count": 11
  },
  {
   "cell_type": "code",
   "id": "58f5965fabbf674f",
   "metadata": {
    "ExecuteTime": {
     "end_time": "2025-07-06T22:53:25.439377Z",
     "start_time": "2025-07-06T22:53:25.222102Z"
    }
   },
   "source": [
    "fig = px.line(count_by_time, x='msc_time', y='count', title='Количество запросов в течение дня')\n",
    "fig.show(renderer=\"png\")"
   ],
   "outputs": [
    {
     "data": {
      "image/png": "[encoded data removed]"
     },
     "metadata": {},
     "output_type": "display_data"
    }
   ],
   "execution_count": 12
  },
  {
   "cell_type": "markdown",
   "id": "e4a5da12c783d47c",
   "metadata": {},
   "source": [
    "По графику видно, что количество запросов зависит от времени суток.\n",
    "\n",
    "Ночью запросов минимум. Это можно объяснить тем, что люди в это время спят.\n",
    "\n",
    "Есть 2 пика запросов: в 7-8 часов утра и в 5-6 часов вечера. В это утреннее время люди собираются или едут на работу. А в данное вечернее время обычно заканчивается рабочий день. Поэтому люди более активные в эти времена.\n",
    "\n",
    "Также можно заметить, что в течение рабочего дня количество запросов понемногу растёт. На это могут сказываться следующие причины:\n",
    "- снижение концентрации работников на рабочих задачах, в следствии чего они всё больше проводят времени в интернете;\n",
    "- конец занятий у школьников/студентов и последующее выполнение домашних заданий (обычно ближе к вечеру) с помощью поисковика."
   ]
  },
  {
   "cell_type": "markdown",
   "id": "787147a2856cffc",
   "metadata": {},
   "source": [
    "## Задача 5\n",
    "\n",
    "Выделите тематики запросов, контрастные для мобильных и компьютеров - темы, доля которых отличаются на разных платформах"
   ]
  },
  {
   "cell_type": "code",
   "id": "115089a93be00b8a",
   "metadata": {
    "ExecuteTime": {
     "end_time": "2025-07-06T22:53:27.032185Z",
     "start_time": "2025-07-06T22:53:25.627878Z"
    }
   },
   "source": [
    "grouped_search_line = df[:]\n",
    "grouped_search_line['search_line'] = df['search_line'].str.lower().str.strip()\n",
    "grouped_search_line = grouped_search_line.groupby(by=['search_line', 'platform']).size().to_frame().reset_index()\n",
    "grouped_search_line.columns = ['search_line', 'platform', 'count']\n",
    "grouped_search_line.info()"
   ],
   "outputs": [
    {
     "name": "stdout",
     "output_type": "stream",
     "text": [
      "<class 'pandas.core.frame.DataFrame'>\n",
      "RangeIndex: 46593 entries, 0 to 46592\n",
      "Data columns (total 3 columns):\n",
      " #   Column       Non-Null Count  Dtype \n",
      "---  ------       --------------  ----- \n",
      " 0   search_line  46593 non-null  object\n",
      " 1   platform     46593 non-null  object\n",
      " 2   count        46593 non-null  int64 \n",
      "dtypes: int64(1), object(2)\n",
      "memory usage: 1.1+ MB\n"
     ]
    }
   ],
   "execution_count": 13
  },
  {
   "cell_type": "code",
   "id": "9131ae86ec45d3c2",
   "metadata": {
    "ExecuteTime": {
     "end_time": "2025-07-06T22:53:28.576020Z",
     "start_time": "2025-07-06T22:53:27.146302Z"
    }
   },
   "source": [
    "topics = [\n",
    "    ['школа', ['таблиц', 'формул', 'падежи', 'дискриминант', 'теорем', 'синтаксический разбор предложения']],\n",
    "    ['открытки', ['с днём рождения женщине', 'с днем рождения', 'с днём рождения мужчине', 'с днём рождения']],\n",
    "    ['айфон', ['айфон', 'iphone']],\n",
    "    ['18+', ['секс', 'хентай', 'сиськи', 'porn', 'порн', 'голые', 'голый', 'пизда', 'sex', 'boob']],\n",
    "    ['люди', ['девушка', 'девушки', 'белла торн', 'тимур бекмансуров', 'жан-поль бельмондо', 'моргенштерн', 'женщины', 'инстасамка', 'путин', 'женщина']],\n",
    "    ['информация', ['календарь', 'алфавит', 'карта', 'текст', 'флаг', 'расписание', 'герб', 'цифры', 'схема', '1 сентября']],\n",
    "    ['сайты', ['одноклассники (социальная сеть)', 'youtube', 'ютуб', 'вк', 'minecraft', 'переводчик', 'яндекс', 'портал государственных услуг российской федерации', 'whatsapp', 'майнкрафт']],\n",
    "    ['обои', ['обои ', 'осень', 'обои', 'космос']],\n",
    "    ['аниме', ['аниме', 'наруто', 'токийские мстители', '13 карт']],\n",
    "    ['без категории', ['картинки', 'фото', 'раскраски', 'рисунки', 'спасибо за внимание', 'фон', 'раскраска', 'мемы']],\n",
    "]\n",
    "\n",
    "grouped_search_line['topic_name'] = 'другое'\n",
    "for topic_name, values in topics:\n",
    "    for val in values:\n",
    "        grouped_search_line.loc[grouped_search_line['search_line'].str.contains(val), 'topic_name'] = topic_name\n",
    "\n",
    "grouped_topics = grouped_search_line.groupby(by=['topic_name', 'platform']).apply(lambda x: x['count'].sum(), include_groups=False).reset_index()\n",
    "grouped_topics.columns = ['topic_name', 'platform', 'count']\n",
    "\n",
    "grouped_topics.head(10)"
   ],
   "outputs": [
    {
     "name": "stderr",
     "output_type": "stream",
     "text": [
      "C:\\Users\\danil\\AppData\\Local\\Temp\\ipykernel_19288\\782991340.py:17: UserWarning:\n",
      "\n",
      "This pattern is interpreted as a regular expression, and has match groups. To actually get the groups, use str.extract.\n",
      "\n"
     ]
    },
    {
     "data": {
      "text/plain": [
       "      topic_name platform   count\n",
       "0            18+  desktop    9676\n",
       "1            18+    touch   59545\n",
       "2          айфон  desktop     686\n",
       "3          айфон    touch    1652\n",
       "4          аниме  desktop    5955\n",
       "5          аниме    touch   10185\n",
       "6  без категории  desktop   36723\n",
       "7  без категории    touch   64932\n",
       "8         другое  desktop  285378\n",
       "9         другое    touch  518293"
      ],
      "text/html": [
       "<div>\n",
       "<style scoped>\n",
       "    .dataframe tbody tr th:only-of-type {\n",
       "        vertical-align: middle;\n",
       "    }\n",
       "\n",
       "    .dataframe tbody tr th {\n",
       "        vertical-align: top;\n",
       "    }\n",
       "\n",
       "    .dataframe thead th {\n",
       "        text-align: right;\n",
       "    }\n",
       "</style>\n",
       "<table border=\"1\" class=\"dataframe\">\n",
       "  <thead>\n",
       "    <tr style=\"text-align: right;\">\n",
       "      <th></th>\n",
       "      <th>topic_name</th>\n",
       "      <th>platform</th>\n",
       "      <th>count</th>\n",
       "    </tr>\n",
       "  </thead>\n",
       "  <tbody>\n",
       "    <tr>\n",
       "      <th>0</th>\n",
       "      <td>18+</td>\n",
       "      <td>desktop</td>\n",
       "      <td>9676</td>\n",
       "    </tr>\n",
       "    <tr>\n",
       "      <th>1</th>\n",
       "      <td>18+</td>\n",
       "      <td>touch</td>\n",
       "      <td>59545</td>\n",
       "    </tr>\n",
       "    <tr>\n",
       "      <th>2</th>\n",
       "      <td>айфон</td>\n",
       "      <td>desktop</td>\n",
       "      <td>686</td>\n",
       "    </tr>\n",
       "    <tr>\n",
       "      <th>3</th>\n",
       "      <td>айфон</td>\n",
       "      <td>touch</td>\n",
       "      <td>1652</td>\n",
       "    </tr>\n",
       "    <tr>\n",
       "      <th>4</th>\n",
       "      <td>аниме</td>\n",
       "      <td>desktop</td>\n",
       "      <td>5955</td>\n",
       "    </tr>\n",
       "    <tr>\n",
       "      <th>5</th>\n",
       "      <td>аниме</td>\n",
       "      <td>touch</td>\n",
       "      <td>10185</td>\n",
       "    </tr>\n",
       "    <tr>\n",
       "      <th>6</th>\n",
       "      <td>без категории</td>\n",
       "      <td>desktop</td>\n",
       "      <td>36723</td>\n",
       "    </tr>\n",
       "    <tr>\n",
       "      <th>7</th>\n",
       "      <td>без категории</td>\n",
       "      <td>touch</td>\n",
       "      <td>64932</td>\n",
       "    </tr>\n",
       "    <tr>\n",
       "      <th>8</th>\n",
       "      <td>другое</td>\n",
       "      <td>desktop</td>\n",
       "      <td>285378</td>\n",
       "    </tr>\n",
       "    <tr>\n",
       "      <th>9</th>\n",
       "      <td>другое</td>\n",
       "      <td>touch</td>\n",
       "      <td>518293</td>\n",
       "    </tr>\n",
       "  </tbody>\n",
       "</table>\n",
       "</div>"
      ]
     },
     "execution_count": 14,
     "metadata": {},
     "output_type": "execute_result"
    }
   ],
   "execution_count": 14
  },
  {
   "cell_type": "code",
   "id": "4dd8e8cb489cd53d",
   "metadata": {
    "ExecuteTime": {
     "end_time": "2025-07-06T22:53:28.627518Z",
     "start_time": "2025-07-06T22:53:28.617317Z"
    }
   },
   "source": [
    "platform_counts = grouped_topics.groupby(by=['platform']).apply(lambda x: x['count'].sum(), include_groups=False).to_frame().transpose()\n",
    "platform_counts"
   ],
   "outputs": [
    {
     "data": {
      "text/plain": [
       "platform  desktop   touch\n",
       "0          411566  792258"
      ],
      "text/html": [
       "<div>\n",
       "<style scoped>\n",
       "    .dataframe tbody tr th:only-of-type {\n",
       "        vertical-align: middle;\n",
       "    }\n",
       "\n",
       "    .dataframe tbody tr th {\n",
       "        vertical-align: top;\n",
       "    }\n",
       "\n",
       "    .dataframe thead th {\n",
       "        text-align: right;\n",
       "    }\n",
       "</style>\n",
       "<table border=\"1\" class=\"dataframe\">\n",
       "  <thead>\n",
       "    <tr style=\"text-align: right;\">\n",
       "      <th>platform</th>\n",
       "      <th>desktop</th>\n",
       "      <th>touch</th>\n",
       "    </tr>\n",
       "  </thead>\n",
       "  <tbody>\n",
       "    <tr>\n",
       "      <th>0</th>\n",
       "      <td>411566</td>\n",
       "      <td>792258</td>\n",
       "    </tr>\n",
       "  </tbody>\n",
       "</table>\n",
       "</div>"
      ]
     },
     "execution_count": 15,
     "metadata": {},
     "output_type": "execute_result"
    }
   ],
   "execution_count": 15
  },
  {
   "cell_type": "code",
   "id": "54c6cb8f20f819e4",
   "metadata": {
    "ExecuteTime": {
     "end_time": "2025-07-06T22:53:28.759603Z",
     "start_time": "2025-07-06T22:53:28.745173Z"
    }
   },
   "source": [
    "grouped_topics['distribution'] = grouped_topics.apply(lambda x: x['count'] / platform_counts[x['platform']][0], axis=1)\n",
    "grouped_topics = grouped_topics[grouped_topics['topic_name'] != 'другое']\n",
    "grouped_topics.head(10)"
   ],
   "outputs": [
    {
     "data": {
      "text/plain": [
       "       topic_name platform  count  distribution\n",
       "0             18+  desktop   9676      0.023510\n",
       "1             18+    touch  59545      0.075159\n",
       "2           айфон  desktop    686      0.001667\n",
       "3           айфон    touch   1652      0.002085\n",
       "4           аниме  desktop   5955      0.014469\n",
       "5           аниме    touch  10185      0.012856\n",
       "6   без категории  desktop  36723      0.089227\n",
       "7   без категории    touch  64932      0.081958\n",
       "10     информация  desktop  31253      0.075937\n",
       "11     информация    touch  42290      0.053379"
      ],
      "text/html": [
       "<div>\n",
       "<style scoped>\n",
       "    .dataframe tbody tr th:only-of-type {\n",
       "        vertical-align: middle;\n",
       "    }\n",
       "\n",
       "    .dataframe tbody tr th {\n",
       "        vertical-align: top;\n",
       "    }\n",
       "\n",
       "    .dataframe thead th {\n",
       "        text-align: right;\n",
       "    }\n",
       "</style>\n",
       "<table border=\"1\" class=\"dataframe\">\n",
       "  <thead>\n",
       "    <tr style=\"text-align: right;\">\n",
       "      <th></th>\n",
       "      <th>topic_name</th>\n",
       "      <th>platform</th>\n",
       "      <th>count</th>\n",
       "      <th>distribution</th>\n",
       "    </tr>\n",
       "  </thead>\n",
       "  <tbody>\n",
       "    <tr>\n",
       "      <th>0</th>\n",
       "      <td>18+</td>\n",
       "      <td>desktop</td>\n",
       "      <td>9676</td>\n",
       "      <td>0.023510</td>\n",
       "    </tr>\n",
       "    <tr>\n",
       "      <th>1</th>\n",
       "      <td>18+</td>\n",
       "      <td>touch</td>\n",
       "      <td>59545</td>\n",
       "      <td>0.075159</td>\n",
       "    </tr>\n",
       "    <tr>\n",
       "      <th>2</th>\n",
       "      <td>айфон</td>\n",
       "      <td>desktop</td>\n",
       "      <td>686</td>\n",
       "      <td>0.001667</td>\n",
       "    </tr>\n",
       "    <tr>\n",
       "      <th>3</th>\n",
       "      <td>айфон</td>\n",
       "      <td>touch</td>\n",
       "      <td>1652</td>\n",
       "      <td>0.002085</td>\n",
       "    </tr>\n",
       "    <tr>\n",
       "      <th>4</th>\n",
       "      <td>аниме</td>\n",
       "      <td>desktop</td>\n",
       "      <td>5955</td>\n",
       "      <td>0.014469</td>\n",
       "    </tr>\n",
       "    <tr>\n",
       "      <th>5</th>\n",
       "      <td>аниме</td>\n",
       "      <td>touch</td>\n",
       "      <td>10185</td>\n",
       "      <td>0.012856</td>\n",
       "    </tr>\n",
       "    <tr>\n",
       "      <th>6</th>\n",
       "      <td>без категории</td>\n",
       "      <td>desktop</td>\n",
       "      <td>36723</td>\n",
       "      <td>0.089227</td>\n",
       "    </tr>\n",
       "    <tr>\n",
       "      <th>7</th>\n",
       "      <td>без категории</td>\n",
       "      <td>touch</td>\n",
       "      <td>64932</td>\n",
       "      <td>0.081958</td>\n",
       "    </tr>\n",
       "    <tr>\n",
       "      <th>10</th>\n",
       "      <td>информация</td>\n",
       "      <td>desktop</td>\n",
       "      <td>31253</td>\n",
       "      <td>0.075937</td>\n",
       "    </tr>\n",
       "    <tr>\n",
       "      <th>11</th>\n",
       "      <td>информация</td>\n",
       "      <td>touch</td>\n",
       "      <td>42290</td>\n",
       "      <td>0.053379</td>\n",
       "    </tr>\n",
       "  </tbody>\n",
       "</table>\n",
       "</div>"
      ]
     },
     "execution_count": 16,
     "metadata": {},
     "output_type": "execute_result"
    }
   ],
   "execution_count": 16
  },
  {
   "cell_type": "code",
   "id": "f690d1cd115f544c",
   "metadata": {
    "ExecuteTime": {
     "end_time": "2025-07-06T22:53:28.963020Z",
     "start_time": "2025-07-06T22:53:28.945651Z"
    }
   },
   "source": [
    "difference_df = grouped_topics.pivot_table(index='topic_name', columns='platform', values='distribution').reset_index()\n",
    "\n",
    "difference_df['difference'] = difference_df['desktop'] - difference_df['touch']\n",
    "difference_df.head(10)"
   ],
   "outputs": [
    {
     "data": {
      "text/plain": [
       "platform     topic_name   desktop     touch  difference\n",
       "0                   18+  0.023510  0.075159   -0.051648\n",
       "1                 айфон  0.001667  0.002085   -0.000418\n",
       "2                 аниме  0.014469  0.012856    0.001613\n",
       "3         без категории  0.089227  0.081958    0.007269\n",
       "4            информация  0.075937  0.053379    0.022558\n",
       "5                  люди  0.018218  0.020900   -0.002682\n",
       "6                  обои  0.017859  0.008515    0.009344\n",
       "7              открытки  0.012683  0.064734   -0.052051\n",
       "8                 сайты  0.018629  0.010979    0.007650\n",
       "9                 школа  0.034405  0.015239    0.019166"
      ],
      "text/html": [
       "<div>\n",
       "<style scoped>\n",
       "    .dataframe tbody tr th:only-of-type {\n",
       "        vertical-align: middle;\n",
       "    }\n",
       "\n",
       "    .dataframe tbody tr th {\n",
       "        vertical-align: top;\n",
       "    }\n",
       "\n",
       "    .dataframe thead th {\n",
       "        text-align: right;\n",
       "    }\n",
       "</style>\n",
       "<table border=\"1\" class=\"dataframe\">\n",
       "  <thead>\n",
       "    <tr style=\"text-align: right;\">\n",
       "      <th>platform</th>\n",
       "      <th>topic_name</th>\n",
       "      <th>desktop</th>\n",
       "      <th>touch</th>\n",
       "      <th>difference</th>\n",
       "    </tr>\n",
       "  </thead>\n",
       "  <tbody>\n",
       "    <tr>\n",
       "      <th>0</th>\n",
       "      <td>18+</td>\n",
       "      <td>0.023510</td>\n",
       "      <td>0.075159</td>\n",
       "      <td>-0.051648</td>\n",
       "    </tr>\n",
       "    <tr>\n",
       "      <th>1</th>\n",
       "      <td>айфон</td>\n",
       "      <td>0.001667</td>\n",
       "      <td>0.002085</td>\n",
       "      <td>-0.000418</td>\n",
       "    </tr>\n",
       "    <tr>\n",
       "      <th>2</th>\n",
       "      <td>аниме</td>\n",
       "      <td>0.014469</td>\n",
       "      <td>0.012856</td>\n",
       "      <td>0.001613</td>\n",
       "    </tr>\n",
       "    <tr>\n",
       "      <th>3</th>\n",
       "      <td>без категории</td>\n",
       "      <td>0.089227</td>\n",
       "      <td>0.081958</td>\n",
       "      <td>0.007269</td>\n",
       "    </tr>\n",
       "    <tr>\n",
       "      <th>4</th>\n",
       "      <td>информация</td>\n",
       "      <td>0.075937</td>\n",
       "      <td>0.053379</td>\n",
       "      <td>0.022558</td>\n",
       "    </tr>\n",
       "    <tr>\n",
       "      <th>5</th>\n",
       "      <td>люди</td>\n",
       "      <td>0.018218</td>\n",
       "      <td>0.020900</td>\n",
       "      <td>-0.002682</td>\n",
       "    </tr>\n",
       "    <tr>\n",
       "      <th>6</th>\n",
       "      <td>обои</td>\n",
       "      <td>0.017859</td>\n",
       "      <td>0.008515</td>\n",
       "      <td>0.009344</td>\n",
       "    </tr>\n",
       "    <tr>\n",
       "      <th>7</th>\n",
       "      <td>открытки</td>\n",
       "      <td>0.012683</td>\n",
       "      <td>0.064734</td>\n",
       "      <td>-0.052051</td>\n",
       "    </tr>\n",
       "    <tr>\n",
       "      <th>8</th>\n",
       "      <td>сайты</td>\n",
       "      <td>0.018629</td>\n",
       "      <td>0.010979</td>\n",
       "      <td>0.007650</td>\n",
       "    </tr>\n",
       "    <tr>\n",
       "      <th>9</th>\n",
       "      <td>школа</td>\n",
       "      <td>0.034405</td>\n",
       "      <td>0.015239</td>\n",
       "      <td>0.019166</td>\n",
       "    </tr>\n",
       "  </tbody>\n",
       "</table>\n",
       "</div>"
      ]
     },
     "execution_count": 17,
     "metadata": {},
     "output_type": "execute_result"
    }
   ],
   "execution_count": 17
  },
  {
   "cell_type": "code",
   "id": "9530c9035ee5f844",
   "metadata": {
    "ExecuteTime": {
     "end_time": "2025-07-06T22:53:29.316729Z",
     "start_time": "2025-07-06T22:53:29.081758Z"
    }
   },
   "source": [
    "fig = px.bar(difference_df.sort_values(by=['difference']), x='topic_name', y='difference', title='Разница долей категорий (от общего количества по платформам) между компьютерами и мобильными', text='topic_name', color=\"difference\")\n",
    "fig.show(renderer=\"png\")"
   ],
   "outputs": [
    {
     "data": {
      "image/png": "[encoded data removed]"
     },
     "metadata": {},
     "output_type": "display_data"
    }
   ],
   "execution_count": 18
  },
  {
   "cell_type": "markdown",
   "id": "129f96fc9d38cfbf",
   "metadata": {},
   "source": [
    "По графику видно, что контрастными тематиками для мобильных и компьютеров являются \"открытки\", \"18+ контент\", \"школа\" и \"информация\".\n",
    "\n",
    "То есть на мобильных устройствах люди намного чаще ищут 18+ контент и различные открытки. На компьютерах чаще ищут информацию по типу календаря или карт, а также школьную информацию по типу всяких формул и таблиц."
   ]
  }
 ],
 "metadata": {
  "kernelspec": {
   "display_name": "Python 3 (ipykernel)",
   "language": "python",
   "name": "python3"
  },
  "language_info": {
   "codemirror_mode": {
    "name": "ipython",
    "version": 3
   },
   "file_extension": ".py",
   "mimetype": "text/x-python",
   "name": "python",
   "nbconvert_exporter": "python",
   "pygments_lexer": "ipython3",
   "version": "3.12.5"
  }
 },
 "nbformat": 4,
 "nbformat_minor": 5
}
