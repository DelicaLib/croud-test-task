{
 "cells": [
  {
   "metadata": {},
   "cell_type": "markdown",
   "source": [
    "# Тестовое задание \"Задача по анализу поиска в Яндекс Картинках\"\n",
    "\n",
    "## Задачи\n",
    "1.\tУкажите даты диапазона предоставленного вам для анализа?\n",
    "2.\tРассчитайте кол-во запросов с текстом \"ютуб\" в каждой платформе (desktop, touch)\n",
    "3.\tВыведите топ10 самых частотных запросов в каждой платформе (desktop, touch). Какие отличия вы видите?\n",
    "4.\tПосмотрите, чем отличается трафик запросов в течение дня. Как можно объяснить отличие?\n",
    "5.\tВыделите тематики запросов, контрастные для мобильных и компьютеров - темы, доля которых отличаются на разных платформах"
   ],
   "id": "718bed80bb6042f3"
  },
  {
   "metadata": {
    "ExecuteTime": {
     "end_time": "2025-07-06T22:54:41.540674Z",
     "start_time": "2025-07-06T22:54:40.145788Z"
    }
   },
   "cell_type": "code",
   "source": [
    "import pandas as pd\n",
    "import pandasql as ps\n",
    "\n",
    "df = pd.read_csv('./data/data.tsv', sep='\\t', names=[\"search_line\", \"time\", \"platform\"])\n",
    "df.info()"
   ],
   "id": "2eabb4d7ded568d8",
   "outputs": [
    {
     "name": "stdout",
     "output_type": "stream",
     "text": [
      "<class 'pandas.core.frame.DataFrame'>\n",
      "RangeIndex: 1203824 entries, 0 to 1203823\n",
      "Data columns (total 3 columns):\n",
      " #   Column       Non-Null Count    Dtype \n",
      "---  ------       --------------    ----- \n",
      " 0   search_line  1203824 non-null  object\n",
      " 1   time         1203824 non-null  int64 \n",
      " 2   platform     1203824 non-null  object\n",
      "dtypes: int64(1), object(2)\n",
      "memory usage: 27.6+ MB\n"
     ]
    }
   ],
   "execution_count": 1
  },
  {
   "metadata": {
    "ExecuteTime": {
     "end_time": "2025-07-06T22:54:41.708475Z",
     "start_time": "2025-07-06T22:54:41.697132Z"
    }
   },
   "cell_type": "code",
   "source": "df.head(10)",
   "id": "af964113f30ba763",
   "outputs": [
    {
     "data": {
      "text/plain": [
       "            search_line        time platform\n",
       "0            порно фото  1631786697    touch\n",
       "1       малевич картины  1631806465  desktop\n",
       "2                  Секс  1631781583    touch\n",
       "3  с днём рождения лена  1631771563    touch\n",
       "4      зверополис порно  1631787599    touch\n",
       "5    алабай собака фото  1631786645    touch\n",
       "6           бактериофаг  1631816202  desktop\n",
       "7       полина гагарина  1631804005    touch\n",
       "8        кадр из фильма  1631770837  desktop\n",
       "9                 porno  1631780741    touch"
      ],
      "text/html": [
       "<div>\n",
       "<style scoped>\n",
       "    .dataframe tbody tr th:only-of-type {\n",
       "        vertical-align: middle;\n",
       "    }\n",
       "\n",
       "    .dataframe tbody tr th {\n",
       "        vertical-align: top;\n",
       "    }\n",
       "\n",
       "    .dataframe thead th {\n",
       "        text-align: right;\n",
       "    }\n",
       "</style>\n",
       "<table border=\"1\" class=\"dataframe\">\n",
       "  <thead>\n",
       "    <tr style=\"text-align: right;\">\n",
       "      <th></th>\n",
       "      <th>search_line</th>\n",
       "      <th>time</th>\n",
       "      <th>platform</th>\n",
       "    </tr>\n",
       "  </thead>\n",
       "  <tbody>\n",
       "    <tr>\n",
       "      <th>0</th>\n",
       "      <td>порно фото</td>\n",
       "      <td>1631786697</td>\n",
       "      <td>touch</td>\n",
       "    </tr>\n",
       "    <tr>\n",
       "      <th>1</th>\n",
       "      <td>малевич картины</td>\n",
       "      <td>1631806465</td>\n",
       "      <td>desktop</td>\n",
       "    </tr>\n",
       "    <tr>\n",
       "      <th>2</th>\n",
       "      <td>Секс</td>\n",
       "      <td>1631781583</td>\n",
       "      <td>touch</td>\n",
       "    </tr>\n",
       "    <tr>\n",
       "      <th>3</th>\n",
       "      <td>с днём рождения лена</td>\n",
       "      <td>1631771563</td>\n",
       "      <td>touch</td>\n",
       "    </tr>\n",
       "    <tr>\n",
       "      <th>4</th>\n",
       "      <td>зверополис порно</td>\n",
       "      <td>1631787599</td>\n",
       "      <td>touch</td>\n",
       "    </tr>\n",
       "    <tr>\n",
       "      <th>5</th>\n",
       "      <td>алабай собака фото</td>\n",
       "      <td>1631786645</td>\n",
       "      <td>touch</td>\n",
       "    </tr>\n",
       "    <tr>\n",
       "      <th>6</th>\n",
       "      <td>бактериофаг</td>\n",
       "      <td>1631816202</td>\n",
       "      <td>desktop</td>\n",
       "    </tr>\n",
       "    <tr>\n",
       "      <th>7</th>\n",
       "      <td>полина гагарина</td>\n",
       "      <td>1631804005</td>\n",
       "      <td>touch</td>\n",
       "    </tr>\n",
       "    <tr>\n",
       "      <th>8</th>\n",
       "      <td>кадр из фильма</td>\n",
       "      <td>1631770837</td>\n",
       "      <td>desktop</td>\n",
       "    </tr>\n",
       "    <tr>\n",
       "      <th>9</th>\n",
       "      <td>porno</td>\n",
       "      <td>1631780741</td>\n",
       "      <td>touch</td>\n",
       "    </tr>\n",
       "  </tbody>\n",
       "</table>\n",
       "</div>"
      ]
     },
     "execution_count": 2,
     "metadata": {},
     "output_type": "execute_result"
    }
   ],
   "execution_count": 2
  },
  {
   "metadata": {},
   "cell_type": "markdown",
   "source": [
    "## Задача 1\n",
    "\n",
    "Укажите даты диапазона предоставленного вам для анализа?\n",
    "\n",
    "Поскольку не указано time zone информация, будем считать даты по **UTC**."
   ],
   "id": "98c99a4417c2feb2"
  },
  {
   "metadata": {
    "ExecuteTime": {
     "end_time": "2025-07-06T22:54:49.731972Z",
     "start_time": "2025-07-06T22:54:41.748603Z"
    }
   },
   "cell_type": "code",
   "source": [
    "df[\"date\"] = pd.to_datetime(ps.sqldf(\"SELECT datetime(time, 'unixepoch', '+0 hours') as date FROM df\")[\"date\"])\n",
    "df.head(10)"
   ],
   "id": "8928d4e36c73d459",
   "outputs": [
    {
     "data": {
      "text/plain": [
       "            search_line        time platform                date\n",
       "0            порно фото  1631786697    touch 2021-09-16 10:04:57\n",
       "1       малевич картины  1631806465  desktop 2021-09-16 15:34:25\n",
       "2                  Секс  1631781583    touch 2021-09-16 08:39:43\n",
       "3  с днём рождения лена  1631771563    touch 2021-09-16 05:52:43\n",
       "4      зверополис порно  1631787599    touch 2021-09-16 10:19:59\n",
       "5    алабай собака фото  1631786645    touch 2021-09-16 10:04:05\n",
       "6           бактериофаг  1631816202  desktop 2021-09-16 18:16:42\n",
       "7       полина гагарина  1631804005    touch 2021-09-16 14:53:25\n",
       "8        кадр из фильма  1631770837  desktop 2021-09-16 05:40:37\n",
       "9                 porno  1631780741    touch 2021-09-16 08:25:41"
      ],
      "text/html": [
       "<div>\n",
       "<style scoped>\n",
       "    .dataframe tbody tr th:only-of-type {\n",
       "        vertical-align: middle;\n",
       "    }\n",
       "\n",
       "    .dataframe tbody tr th {\n",
       "        vertical-align: top;\n",
       "    }\n",
       "\n",
       "    .dataframe thead th {\n",
       "        text-align: right;\n",
       "    }\n",
       "</style>\n",
       "<table border=\"1\" class=\"dataframe\">\n",
       "  <thead>\n",
       "    <tr style=\"text-align: right;\">\n",
       "      <th></th>\n",
       "      <th>search_line</th>\n",
       "      <th>time</th>\n",
       "      <th>platform</th>\n",
       "      <th>date</th>\n",
       "    </tr>\n",
       "  </thead>\n",
       "  <tbody>\n",
       "    <tr>\n",
       "      <th>0</th>\n",
       "      <td>порно фото</td>\n",
       "      <td>1631786697</td>\n",
       "      <td>touch</td>\n",
       "      <td>2021-09-16 10:04:57</td>\n",
       "    </tr>\n",
       "    <tr>\n",
       "      <th>1</th>\n",
       "      <td>малевич картины</td>\n",
       "      <td>1631806465</td>\n",
       "      <td>desktop</td>\n",
       "      <td>2021-09-16 15:34:25</td>\n",
       "    </tr>\n",
       "    <tr>\n",
       "      <th>2</th>\n",
       "      <td>Секс</td>\n",
       "      <td>1631781583</td>\n",
       "      <td>touch</td>\n",
       "      <td>2021-09-16 08:39:43</td>\n",
       "    </tr>\n",
       "    <tr>\n",
       "      <th>3</th>\n",
       "      <td>с днём рождения лена</td>\n",
       "      <td>1631771563</td>\n",
       "      <td>touch</td>\n",
       "      <td>2021-09-16 05:52:43</td>\n",
       "    </tr>\n",
       "    <tr>\n",
       "      <th>4</th>\n",
       "      <td>зверополис порно</td>\n",
       "      <td>1631787599</td>\n",
       "      <td>touch</td>\n",
       "      <td>2021-09-16 10:19:59</td>\n",
       "    </tr>\n",
       "    <tr>\n",
       "      <th>5</th>\n",
       "      <td>алабай собака фото</td>\n",
       "      <td>1631786645</td>\n",
       "      <td>touch</td>\n",
       "      <td>2021-09-16 10:04:05</td>\n",
       "    </tr>\n",
       "    <tr>\n",
       "      <th>6</th>\n",
       "      <td>бактериофаг</td>\n",
       "      <td>1631816202</td>\n",
       "      <td>desktop</td>\n",
       "      <td>2021-09-16 18:16:42</td>\n",
       "    </tr>\n",
       "    <tr>\n",
       "      <th>7</th>\n",
       "      <td>полина гагарина</td>\n",
       "      <td>1631804005</td>\n",
       "      <td>touch</td>\n",
       "      <td>2021-09-16 14:53:25</td>\n",
       "    </tr>\n",
       "    <tr>\n",
       "      <th>8</th>\n",
       "      <td>кадр из фильма</td>\n",
       "      <td>1631770837</td>\n",
       "      <td>desktop</td>\n",
       "      <td>2021-09-16 05:40:37</td>\n",
       "    </tr>\n",
       "    <tr>\n",
       "      <th>9</th>\n",
       "      <td>porno</td>\n",
       "      <td>1631780741</td>\n",
       "      <td>touch</td>\n",
       "      <td>2021-09-16 08:25:41</td>\n",
       "    </tr>\n",
       "  </tbody>\n",
       "</table>\n",
       "</div>"
      ]
     },
     "execution_count": 3,
     "metadata": {},
     "output_type": "execute_result"
    }
   ],
   "execution_count": 3
  },
  {
   "metadata": {
    "ExecuteTime": {
     "end_time": "2025-07-06T22:54:58.558355Z",
     "start_time": "2025-07-06T22:54:49.764530Z"
    }
   },
   "cell_type": "code",
   "source": [
    "print(ps.sqldf(\"\"\"\n",
    "    SELECT 'Диапазон дат: ' || STRFTIME('%d.%m.%Y', DATE(MIN(date))) || ' - ' || STRFTIME('%d.%m.%Y', DATE(MAX(date))) as result\n",
    "    FROM df\n",
    "    ORDER BY time\n",
    "    DESC\n",
    "    LIMIT 1\n",
    "\"\"\")['result'][0])"
   ],
   "id": "20817c61bd2156b4",
   "outputs": [
    {
     "name": "stdout",
     "output_type": "stream",
     "text": [
      "Диапазон дат: 31.08.2021 - 21.09.2021\n"
     ]
    }
   ],
   "execution_count": 4
  },
  {
   "metadata": {},
   "cell_type": "markdown",
   "source": [
    "## Задача 2\n",
    "\n",
    "Рассчитайте кол-во запросов с текстом \"ютуб\" в каждой платформе (desktop, touch)\n"
   ],
   "id": "cc2c551fd970bfe8"
  },
  {
   "metadata": {
    "ExecuteTime": {
     "end_time": "2025-07-06T22:55:07.064887Z",
     "start_time": "2025-07-06T22:54:58.598221Z"
    }
   },
   "cell_type": "code",
   "source": [
    "youtube_count_df = ps.sqldf(\"\"\"\n",
    "    SELECT platform, COUNT(time) as count\n",
    "    FROM df\n",
    "    WHERE search_line='ютуб'\n",
    "    GROUP BY platform\n",
    "\"\"\")\n",
    "youtube_count_df"
   ],
   "id": "70b75a0e6b9e2495",
   "outputs": [
    {
     "data": {
      "text/plain": [
       "  platform  count\n",
       "0  desktop    714\n",
       "1    touch    476"
      ],
      "text/html": [
       "<div>\n",
       "<style scoped>\n",
       "    .dataframe tbody tr th:only-of-type {\n",
       "        vertical-align: middle;\n",
       "    }\n",
       "\n",
       "    .dataframe tbody tr th {\n",
       "        vertical-align: top;\n",
       "    }\n",
       "\n",
       "    .dataframe thead th {\n",
       "        text-align: right;\n",
       "    }\n",
       "</style>\n",
       "<table border=\"1\" class=\"dataframe\">\n",
       "  <thead>\n",
       "    <tr style=\"text-align: right;\">\n",
       "      <th></th>\n",
       "      <th>platform</th>\n",
       "      <th>count</th>\n",
       "    </tr>\n",
       "  </thead>\n",
       "  <tbody>\n",
       "    <tr>\n",
       "      <th>0</th>\n",
       "      <td>desktop</td>\n",
       "      <td>714</td>\n",
       "    </tr>\n",
       "    <tr>\n",
       "      <th>1</th>\n",
       "      <td>touch</td>\n",
       "      <td>476</td>\n",
       "    </tr>\n",
       "  </tbody>\n",
       "</table>\n",
       "</div>"
      ]
     },
     "execution_count": 5,
     "metadata": {},
     "output_type": "execute_result"
    }
   ],
   "execution_count": 5
  },
  {
   "metadata": {
    "ExecuteTime": {
     "end_time": "2025-07-06T22:55:08.626624Z",
     "start_time": "2025-07-06T22:55:07.095434Z"
    }
   },
   "cell_type": "code",
   "source": [
    "import plotly.express as px\n",
    "import plotly.io as pio\n",
    "pio.templates.default = \"plotly\"\n",
    "fig = px.bar(youtube_count_df, x='platform', y='count', title='Кол-во запросов с текстом \"ютуб\" в каждой платформе')\n",
    "fig.show(renderer=\"png\")"
   ],
   "id": "f6e20191c2bb586e",
   "outputs": [
    {
     "data": {
      "image/png": "[encoded data removed]"
     },
     "metadata": {},
     "output_type": "display_data"
    }
   ],
   "execution_count": 6
  },
  {
   "metadata": {},
   "cell_type": "markdown",
   "source": [
    "## Задача 3\n",
    "\n",
    "Выведите топ10 самых частотных запросов в каждой платформе (desktop, touch). Какие отличия вы видите?"
   ],
   "id": "bd58e0dc2b147891"
  },
  {
   "metadata": {
    "ExecuteTime": {
     "end_time": "2025-07-06T22:55:18.520498Z",
     "start_time": "2025-07-06T22:55:08.666397Z"
    }
   },
   "cell_type": "code",
   "source": [
    "search_line_cnt_df = ps.sqldf(\"\"\"\n",
    "    SELECT search_line, platform, count\n",
    "    FROM (\n",
    "        SELECT\n",
    "            search_line,\n",
    "            platform,\n",
    "            COUNT(time) as count,\n",
    "            ROW_NUMBER() OVER (PARTITION BY platform ORDER BY COUNT(time) DESC) AS rn\n",
    "        FROM df\n",
    "        GROUP BY search_line, platform\n",
    "    )\n",
    "    WHERE rn <= 10\n",
    "\"\"\")\n",
    "search_line_cnt_df.head(10)"
   ],
   "id": "fd38aa7bfc020fe4",
   "outputs": [
    {
     "data": {
      "text/plain": [
       "                       search_line platform  count\n",
       "0                   календарь 2021  desktop   2804\n",
       "1               таблица менделеева  desktop   2631\n",
       "2                         картинки  desktop   1647\n",
       "3                            порно  desktop   1342\n",
       "4               английский алфавит  desktop   1293\n",
       "5             обои на рабочий стол  desktop   1143\n",
       "6  Одноклассники (социальная сеть)  desktop   1116\n",
       "7                             секс  desktop    895\n",
       "8                таблица квадратов  desktop    877\n",
       "9                          алфавит  desktop    874"
      ],
      "text/html": [
       "<div>\n",
       "<style scoped>\n",
       "    .dataframe tbody tr th:only-of-type {\n",
       "        vertical-align: middle;\n",
       "    }\n",
       "\n",
       "    .dataframe tbody tr th {\n",
       "        vertical-align: top;\n",
       "    }\n",
       "\n",
       "    .dataframe thead th {\n",
       "        text-align: right;\n",
       "    }\n",
       "</style>\n",
       "<table border=\"1\" class=\"dataframe\">\n",
       "  <thead>\n",
       "    <tr style=\"text-align: right;\">\n",
       "      <th></th>\n",
       "      <th>search_line</th>\n",
       "      <th>platform</th>\n",
       "      <th>count</th>\n",
       "    </tr>\n",
       "  </thead>\n",
       "  <tbody>\n",
       "    <tr>\n",
       "      <th>0</th>\n",
       "      <td>календарь 2021</td>\n",
       "      <td>desktop</td>\n",
       "      <td>2804</td>\n",
       "    </tr>\n",
       "    <tr>\n",
       "      <th>1</th>\n",
       "      <td>таблица менделеева</td>\n",
       "      <td>desktop</td>\n",
       "      <td>2631</td>\n",
       "    </tr>\n",
       "    <tr>\n",
       "      <th>2</th>\n",
       "      <td>картинки</td>\n",
       "      <td>desktop</td>\n",
       "      <td>1647</td>\n",
       "    </tr>\n",
       "    <tr>\n",
       "      <th>3</th>\n",
       "      <td>порно</td>\n",
       "      <td>desktop</td>\n",
       "      <td>1342</td>\n",
       "    </tr>\n",
       "    <tr>\n",
       "      <th>4</th>\n",
       "      <td>английский алфавит</td>\n",
       "      <td>desktop</td>\n",
       "      <td>1293</td>\n",
       "    </tr>\n",
       "    <tr>\n",
       "      <th>5</th>\n",
       "      <td>обои на рабочий стол</td>\n",
       "      <td>desktop</td>\n",
       "      <td>1143</td>\n",
       "    </tr>\n",
       "    <tr>\n",
       "      <th>6</th>\n",
       "      <td>Одноклассники (социальная сеть)</td>\n",
       "      <td>desktop</td>\n",
       "      <td>1116</td>\n",
       "    </tr>\n",
       "    <tr>\n",
       "      <th>7</th>\n",
       "      <td>секс</td>\n",
       "      <td>desktop</td>\n",
       "      <td>895</td>\n",
       "    </tr>\n",
       "    <tr>\n",
       "      <th>8</th>\n",
       "      <td>таблица квадратов</td>\n",
       "      <td>desktop</td>\n",
       "      <td>877</td>\n",
       "    </tr>\n",
       "    <tr>\n",
       "      <th>9</th>\n",
       "      <td>алфавит</td>\n",
       "      <td>desktop</td>\n",
       "      <td>874</td>\n",
       "    </tr>\n",
       "  </tbody>\n",
       "</table>\n",
       "</div>"
      ]
     },
     "execution_count": 7,
     "metadata": {},
     "output_type": "execute_result"
    }
   ],
   "execution_count": 7
  },
  {
   "metadata": {
    "ExecuteTime": {
     "end_time": "2025-07-06T22:55:18.764423Z",
     "start_time": "2025-07-06T22:55:18.551647Z"
    }
   },
   "cell_type": "code",
   "source": [
    "fig = px.bar(search_line_cnt_df, x='platform', y='count', title='Топ 10 самых частотных запросов в каждой платформе', text='search_line', color=\"count\", height=600)\n",
    "fig.show(renderer=\"png\")"
   ],
   "id": "ceabea5db6b8a5cf",
   "outputs": [
    {
     "data": {
      "image/png": "[encoded data removed]"
     },
     "metadata": {},
     "output_type": "display_data"
    }
   ],
   "execution_count": 8
  },
  {
   "metadata": {},
   "cell_type": "markdown",
   "source": [
    "Исходя из диаграммы можно увидеть следующее:\n",
    "- На мобильных устройства чаще всего ищут контент 18+, а также поздравления с днём рождения и календарь\n",
    "- На компьютерах чаще всего ищут календарь, таблицу менделеева и картинки\n",
    "\n",
    "Заметны существенные различия между платформами: на мобильных устройствах очень распространён поиск 18+ контента и поздравлений с днём рождения в отличие от ПК. На пк 18+ контент достаточно популярен, но не настолько.\n"
   ],
   "id": "27c86a86cbd8f04"
  },
  {
   "metadata": {},
   "cell_type": "markdown",
   "source": [
    "## Задача 4\n",
    "\n",
    "Посмотрите, чем отличается трафик запросов в течении дня. Как можно объяснить отличие?"
   ],
   "id": "262a27e247c7a913"
  },
  {
   "metadata": {
    "ExecuteTime": {
     "end_time": "2025-07-06T22:55:28.898693Z",
     "start_time": "2025-07-06T22:55:18.835877Z"
    }
   },
   "cell_type": "code",
   "source": [
    "count_by_time = ps.sqldf(\"\"\"\n",
    "    SELECT strftime('%H:%M:%S', datetime(time - time % (30 * 60), 'unixepoch', '+0 hours')) as msc_time, COUNT(time) as count\n",
    "    FROM df\n",
    "    GROUP BY msc_time\n",
    "\"\"\")\n",
    "count_by_time.head(10)"
   ],
   "id": "92bcb3e5e9319f24",
   "outputs": [
    {
     "data": {
      "text/plain": [
       "   msc_time  count\n",
       "0  00:00:00   4873\n",
       "1  00:30:00   5145\n",
       "2  01:00:00   5848\n",
       "3  01:30:00   6792\n",
       "4  02:00:00   7990\n",
       "5  02:30:00   9532\n",
       "6  03:00:00  12476\n",
       "7  03:30:00  15440\n",
       "8  04:00:00  18889\n",
       "9  04:30:00  21890"
      ],
      "text/html": [
       "<div>\n",
       "<style scoped>\n",
       "    .dataframe tbody tr th:only-of-type {\n",
       "        vertical-align: middle;\n",
       "    }\n",
       "\n",
       "    .dataframe tbody tr th {\n",
       "        vertical-align: top;\n",
       "    }\n",
       "\n",
       "    .dataframe thead th {\n",
       "        text-align: right;\n",
       "    }\n",
       "</style>\n",
       "<table border=\"1\" class=\"dataframe\">\n",
       "  <thead>\n",
       "    <tr style=\"text-align: right;\">\n",
       "      <th></th>\n",
       "      <th>msc_time</th>\n",
       "      <th>count</th>\n",
       "    </tr>\n",
       "  </thead>\n",
       "  <tbody>\n",
       "    <tr>\n",
       "      <th>0</th>\n",
       "      <td>00:00:00</td>\n",
       "      <td>4873</td>\n",
       "    </tr>\n",
       "    <tr>\n",
       "      <th>1</th>\n",
       "      <td>00:30:00</td>\n",
       "      <td>5145</td>\n",
       "    </tr>\n",
       "    <tr>\n",
       "      <th>2</th>\n",
       "      <td>01:00:00</td>\n",
       "      <td>5848</td>\n",
       "    </tr>\n",
       "    <tr>\n",
       "      <th>3</th>\n",
       "      <td>01:30:00</td>\n",
       "      <td>6792</td>\n",
       "    </tr>\n",
       "    <tr>\n",
       "      <th>4</th>\n",
       "      <td>02:00:00</td>\n",
       "      <td>7990</td>\n",
       "    </tr>\n",
       "    <tr>\n",
       "      <th>5</th>\n",
       "      <td>02:30:00</td>\n",
       "      <td>9532</td>\n",
       "    </tr>\n",
       "    <tr>\n",
       "      <th>6</th>\n",
       "      <td>03:00:00</td>\n",
       "      <td>12476</td>\n",
       "    </tr>\n",
       "    <tr>\n",
       "      <th>7</th>\n",
       "      <td>03:30:00</td>\n",
       "      <td>15440</td>\n",
       "    </tr>\n",
       "    <tr>\n",
       "      <th>8</th>\n",
       "      <td>04:00:00</td>\n",
       "      <td>18889</td>\n",
       "    </tr>\n",
       "    <tr>\n",
       "      <th>9</th>\n",
       "      <td>04:30:00</td>\n",
       "      <td>21890</td>\n",
       "    </tr>\n",
       "  </tbody>\n",
       "</table>\n",
       "</div>"
      ]
     },
     "execution_count": 9,
     "metadata": {},
     "output_type": "execute_result"
    }
   ],
   "execution_count": 9
  },
  {
   "metadata": {
    "ExecuteTime": {
     "end_time": "2025-07-06T22:55:29.102326Z",
     "start_time": "2025-07-06T22:55:28.930272Z"
    }
   },
   "cell_type": "code",
   "source": [
    "fig = px.line(count_by_time, x='msc_time', y='count', title='Количество запросов в течение дня')\n",
    "fig.show(renderer=\"png\")"
   ],
   "id": "a9472efc986b9c16",
   "outputs": [
    {
     "data": {
      "image/png": "[encoded data removed]"
     },
     "metadata": {},
     "output_type": "display_data"
    }
   ],
   "execution_count": 10
  },
  {
   "metadata": {},
   "cell_type": "markdown",
   "source": [
    "По графику видно, что количество запросов зависит от времени суток.\n",
    "\n",
    "Ночью запросов минимум. Это можно объяснить тем, что люди в это время спят.\n",
    "\n",
    "Есть 2 пика запросов: в 7-8 часов утра и в 5-6 часов вечера. В это утреннее время люди собираются или едут на работу. А в данное вечернее время обычно заканчивается рабочий день. Поэтому люди более активные в эти времена.\n",
    "\n",
    "Также можно заметить, что в течение рабочего дня количество запросов понемногу растёт. На это могут сказываться следующие причины:\n",
    "- снижение концентрации работников на рабочих задачах, в следствии чего они всё больше проводят времени в интернете;\n",
    "- конец занятий у школьников/студентов и последующее выполнение домашних заданий (обычно ближе к вечеру) с помощью поисковика.\n"
   ],
   "id": "31bfacf4ef544a4b"
  },
  {
   "metadata": {},
   "cell_type": "markdown",
   "source": [
    "## Задача 5\n",
    "\n",
    "Выделите тематики запросов, контрастные для мобильных и компьютеров - темы, доля которых отличаются на разных платформах"
   ],
   "id": "4eecc567adbd204c"
  },
  {
   "metadata": {
    "ExecuteTime": {
     "end_time": "2025-07-06T22:55:39.493541Z",
     "start_time": "2025-07-06T22:55:29.177949Z"
    }
   },
   "cell_type": "code",
   "source": [
    "grouped_search_line = df[:]\n",
    "grouped_search_line['search_line'] = df['search_line'].str.lower().str.strip()\n",
    "grouped_search_line = ps.sqldf(\"\"\"\n",
    "    SELECT search_line, platform, COUNT(*) as count\n",
    "    FROM grouped_search_line\n",
    "    GROUP BY search_line, platform\n",
    "\"\"\")\n",
    "grouped_search_line.info()"
   ],
   "id": "89ec1db304bbda7e",
   "outputs": [
    {
     "name": "stdout",
     "output_type": "stream",
     "text": [
      "<class 'pandas.core.frame.DataFrame'>\n",
      "RangeIndex: 46593 entries, 0 to 46592\n",
      "Data columns (total 3 columns):\n",
      " #   Column       Non-Null Count  Dtype \n",
      "---  ------       --------------  ----- \n",
      " 0   search_line  46593 non-null  object\n",
      " 1   platform     46593 non-null  object\n",
      " 2   count        46593 non-null  int64 \n",
      "dtypes: int64(1), object(2)\n",
      "memory usage: 1.1+ MB\n"
     ]
    }
   ],
   "execution_count": 11
  },
  {
   "metadata": {
    "ExecuteTime": {
     "end_time": "2025-07-06T22:55:40.789543Z",
     "start_time": "2025-07-06T22:55:39.528401Z"
    }
   },
   "cell_type": "code",
   "source": [
    "topics = [\n",
    "    ['школа', ['таблиц', 'формул', 'падежи', 'дискриминант', 'теорем', 'синтаксический разбор предложения']],\n",
    "    ['открытки', ['с днём рождения женщине', 'с днем рождения', 'с днём рождения мужчине', 'с днём рождения']],\n",
    "    ['айфон', ['айфон', 'iphone']],\n",
    "    ['18+', ['секс', 'хентай', 'сиськи', 'porn', 'порн', 'голые', 'голый', 'пизда', 'sex', 'boob']],\n",
    "    ['люди', ['девушка', 'девушки', 'белла торн', 'тимур бекмансуров', 'жан-поль бельмондо', 'моргенштерн', 'женщины', 'инстасамка', 'путин', 'женщина']],\n",
    "    ['информация', ['календарь', 'алфавит', 'карта', 'текст', 'флаг', 'расписание', 'герб', 'цифры', 'схема', '1 сентября']],\n",
    "    ['сайты', ['одноклассники (социальная сеть)', 'youtube', 'ютуб', 'вк', 'minecraft', 'переводчик', 'яндекс', 'портал государственных услуг российской федерации', 'whatsapp', 'майнкрафт']],\n",
    "    ['обои', ['обои ', 'осень', 'обои', 'космос']],\n",
    "    ['аниме', ['аниме', 'наруто', 'токийские мстители', '13 карт']],\n",
    "    ['без категории', ['картинки', 'фото', 'раскраски', 'рисунки', 'спасибо за внимание', 'фон', 'раскраска', 'мемы']],\n",
    "]\n",
    "\n",
    "grouped_search_line['topic_name'] = 'другое'\n",
    "for topic_name, values in topics:\n",
    "    for val in values:\n",
    "        grouped_search_line.loc[grouped_search_line['search_line'].str.contains(val), 'topic_name'] = topic_name\n",
    "\n",
    "grouped_topics = ps.sqldf(\"\"\"\n",
    "    SELECT\n",
    "        topic_name,\n",
    "        platform,\n",
    "        SUM(count) * 1.0 / SUM(SUM(count)) OVER (PARTITION BY platform) AS distribution\n",
    "    FROM grouped_search_line\n",
    "    GROUP BY topic_name, platform\n",
    "\"\"\")\n",
    "\n",
    "grouped_topics.head(10)"
   ],
   "id": "ac69d92542f6225d",
   "outputs": [
    {
     "name": "stderr",
     "output_type": "stream",
     "text": [
      "C:\\Users\\danil\\AppData\\Local\\Temp\\ipykernel_22108\\785505367.py:17: UserWarning:\n",
      "\n",
      "This pattern is interpreted as a regular expression, and has match groups. To actually get the groups, use str.extract.\n",
      "\n"
     ]
    },
    {
     "data": {
      "text/plain": [
       "      topic_name platform  distribution\n",
       "0            18+  desktop      0.023510\n",
       "1          айфон  desktop      0.001667\n",
       "2          аниме  desktop      0.014469\n",
       "3  без категории  desktop      0.089227\n",
       "4         другое  desktop      0.693395\n",
       "5     информация  desktop      0.075937\n",
       "6           люди  desktop      0.018218\n",
       "7           обои  desktop      0.017859\n",
       "8       открытки  desktop      0.012683\n",
       "9          сайты  desktop      0.018629"
      ],
      "text/html": [
       "<div>\n",
       "<style scoped>\n",
       "    .dataframe tbody tr th:only-of-type {\n",
       "        vertical-align: middle;\n",
       "    }\n",
       "\n",
       "    .dataframe tbody tr th {\n",
       "        vertical-align: top;\n",
       "    }\n",
       "\n",
       "    .dataframe thead th {\n",
       "        text-align: right;\n",
       "    }\n",
       "</style>\n",
       "<table border=\"1\" class=\"dataframe\">\n",
       "  <thead>\n",
       "    <tr style=\"text-align: right;\">\n",
       "      <th></th>\n",
       "      <th>topic_name</th>\n",
       "      <th>platform</th>\n",
       "      <th>distribution</th>\n",
       "    </tr>\n",
       "  </thead>\n",
       "  <tbody>\n",
       "    <tr>\n",
       "      <th>0</th>\n",
       "      <td>18+</td>\n",
       "      <td>desktop</td>\n",
       "      <td>0.023510</td>\n",
       "    </tr>\n",
       "    <tr>\n",
       "      <th>1</th>\n",
       "      <td>айфон</td>\n",
       "      <td>desktop</td>\n",
       "      <td>0.001667</td>\n",
       "    </tr>\n",
       "    <tr>\n",
       "      <th>2</th>\n",
       "      <td>аниме</td>\n",
       "      <td>desktop</td>\n",
       "      <td>0.014469</td>\n",
       "    </tr>\n",
       "    <tr>\n",
       "      <th>3</th>\n",
       "      <td>без категории</td>\n",
       "      <td>desktop</td>\n",
       "      <td>0.089227</td>\n",
       "    </tr>\n",
       "    <tr>\n",
       "      <th>4</th>\n",
       "      <td>другое</td>\n",
       "      <td>desktop</td>\n",
       "      <td>0.693395</td>\n",
       "    </tr>\n",
       "    <tr>\n",
       "      <th>5</th>\n",
       "      <td>информация</td>\n",
       "      <td>desktop</td>\n",
       "      <td>0.075937</td>\n",
       "    </tr>\n",
       "    <tr>\n",
       "      <th>6</th>\n",
       "      <td>люди</td>\n",
       "      <td>desktop</td>\n",
       "      <td>0.018218</td>\n",
       "    </tr>\n",
       "    <tr>\n",
       "      <th>7</th>\n",
       "      <td>обои</td>\n",
       "      <td>desktop</td>\n",
       "      <td>0.017859</td>\n",
       "    </tr>\n",
       "    <tr>\n",
       "      <th>8</th>\n",
       "      <td>открытки</td>\n",
       "      <td>desktop</td>\n",
       "      <td>0.012683</td>\n",
       "    </tr>\n",
       "    <tr>\n",
       "      <th>9</th>\n",
       "      <td>сайты</td>\n",
       "      <td>desktop</td>\n",
       "      <td>0.018629</td>\n",
       "    </tr>\n",
       "  </tbody>\n",
       "</table>\n",
       "</div>"
      ]
     },
     "execution_count": 12,
     "metadata": {},
     "output_type": "execute_result"
    }
   ],
   "execution_count": 12
  },
  {
   "metadata": {
    "ExecuteTime": {
     "end_time": "2025-07-06T22:55:40.854436Z",
     "start_time": "2025-07-06T22:55:40.828404Z"
    }
   },
   "cell_type": "code",
   "source": [
    "difference_df = ps.sqldf(\"\"\"\n",
    "    SELECT\n",
    "        desk_df.topic_name as topic_name,\n",
    "        desk_df.distribution - touch_df.distribution as difference\n",
    "    FROM (SELECT * FROM grouped_topics WHERE platform='desktop') as desk_df\n",
    "    JOIN (SELECT * FROM grouped_topics WHERE platform='touch') as touch_df\n",
    "    ON desk_df.topic_name=touch_df.topic_name AND desk_df.topic_name!='другое'\n",
    "    ORDER BY difference\n",
    "\"\"\")\n",
    "difference_df.head(10)"
   ],
   "id": "3eac8b361c56a105",
   "outputs": [
    {
     "data": {
      "text/plain": [
       "      topic_name  difference\n",
       "0       открытки   -0.052051\n",
       "1            18+   -0.051648\n",
       "2           люди   -0.002682\n",
       "3          айфон   -0.000418\n",
       "4          аниме    0.001613\n",
       "5  без категории    0.007269\n",
       "6          сайты    0.007650\n",
       "7           обои    0.009344\n",
       "8          школа    0.019166\n",
       "9     информация    0.022558"
      ],
      "text/html": [
       "<div>\n",
       "<style scoped>\n",
       "    .dataframe tbody tr th:only-of-type {\n",
       "        vertical-align: middle;\n",
       "    }\n",
       "\n",
       "    .dataframe tbody tr th {\n",
       "        vertical-align: top;\n",
       "    }\n",
       "\n",
       "    .dataframe thead th {\n",
       "        text-align: right;\n",
       "    }\n",
       "</style>\n",
       "<table border=\"1\" class=\"dataframe\">\n",
       "  <thead>\n",
       "    <tr style=\"text-align: right;\">\n",
       "      <th></th>\n",
       "      <th>topic_name</th>\n",
       "      <th>difference</th>\n",
       "    </tr>\n",
       "  </thead>\n",
       "  <tbody>\n",
       "    <tr>\n",
       "      <th>0</th>\n",
       "      <td>открытки</td>\n",
       "      <td>-0.052051</td>\n",
       "    </tr>\n",
       "    <tr>\n",
       "      <th>1</th>\n",
       "      <td>18+</td>\n",
       "      <td>-0.051648</td>\n",
       "    </tr>\n",
       "    <tr>\n",
       "      <th>2</th>\n",
       "      <td>люди</td>\n",
       "      <td>-0.002682</td>\n",
       "    </tr>\n",
       "    <tr>\n",
       "      <th>3</th>\n",
       "      <td>айфон</td>\n",
       "      <td>-0.000418</td>\n",
       "    </tr>\n",
       "    <tr>\n",
       "      <th>4</th>\n",
       "      <td>аниме</td>\n",
       "      <td>0.001613</td>\n",
       "    </tr>\n",
       "    <tr>\n",
       "      <th>5</th>\n",
       "      <td>без категории</td>\n",
       "      <td>0.007269</td>\n",
       "    </tr>\n",
       "    <tr>\n",
       "      <th>6</th>\n",
       "      <td>сайты</td>\n",
       "      <td>0.007650</td>\n",
       "    </tr>\n",
       "    <tr>\n",
       "      <th>7</th>\n",
       "      <td>обои</td>\n",
       "      <td>0.009344</td>\n",
       "    </tr>\n",
       "    <tr>\n",
       "      <th>8</th>\n",
       "      <td>школа</td>\n",
       "      <td>0.019166</td>\n",
       "    </tr>\n",
       "    <tr>\n",
       "      <th>9</th>\n",
       "      <td>информация</td>\n",
       "      <td>0.022558</td>\n",
       "    </tr>\n",
       "  </tbody>\n",
       "</table>\n",
       "</div>"
      ]
     },
     "execution_count": 13,
     "metadata": {},
     "output_type": "execute_result"
    }
   ],
   "execution_count": 13
  },
  {
   "metadata": {
    "ExecuteTime": {
     "end_time": "2025-07-06T22:55:41.382750Z",
     "start_time": "2025-07-06T22:55:41.002048Z"
    }
   },
   "cell_type": "code",
   "source": [
    "fig = px.bar(difference_df.sort_values(by=['difference']), x='topic_name', y='difference', title='Разница долей категорий (от общего количества по платформам) между компьютерами и мобильными', text='topic_name', color=\"difference\")\n",
    "fig.show(renderer=\"png\")"
   ],
   "id": "183b5eb2871ec6d3",
   "outputs": [
    {
     "data": {
      "image/png": "[encoded data removed]"
     },
     "metadata": {},
     "output_type": "display_data"
    }
   ],
   "execution_count": 14
  },
  {
   "metadata": {},
   "cell_type": "markdown",
   "source": [
    "По графику видно, что контрастными тематиками для мобильных и компьютеров являются \"открытки\", \"18+ контент\", \"школа\" и \"информация\".\n",
    "\n",
    "То есть на мобильных устройствах люди намного чаще ищут 18+ контент и различные открытки. На компьютерах чаще ищут информацию по типу календаря или карт, а также школьную информацию по типу всяких формул и таблиц.\n"
   ],
   "id": "9bfebc38afaa9ba"
  }
 ],
 "metadata": {
  "kernelspec": {
   "display_name": "Python 3",
   "language": "python",
   "name": "python3"
  },
  "language_info": {
   "codemirror_mode": {
    "name": "ipython",
    "version": 2
   },
   "file_extension": ".py",
   "mimetype": "text/x-python",
   "name": "python",
   "nbconvert_exporter": "python",
   "pygments_lexer": "ipython2",
   "version": "2.7.6"
  }
 },
 "nbformat": 4,
 "nbformat_minor": 5
}
